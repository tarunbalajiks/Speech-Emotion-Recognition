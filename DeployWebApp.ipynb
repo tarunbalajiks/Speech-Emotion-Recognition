{
  "nbformat": 4,
  "nbformat_minor": 0,
  "metadata": {
    "colab": {
      "provenance": [],
      "mount_file_id": "1osMtf6e5GulGScLS4joLD3NIzgLpW0j2",
      "authorship_tag": "ABX9TyMe5+ARnfrFQ14fFbAJ2Byv",
      "include_colab_link": true
    },
    "kernelspec": {
      "name": "python3",
      "display_name": "Python 3"
    },
    "language_info": {
      "name": "python"
    }
  },
  "cells": [
    {
      "cell_type": "markdown",
      "metadata": {
        "id": "view-in-github",
        "colab_type": "text"
      },
      "source": [
        "<a href=\"https://colab.research.google.com/github/tarunbalajiks/Speech-Emotion-Recognition/blob/main/DeployWebApp.ipynb\" target=\"_parent\"><img src=\"https://colab.research.google.com/assets/colab-badge.svg\" alt=\"Open In Colab\"/></a>"
      ]
    },
    {
      "cell_type": "code",
      "execution_count": 37,
      "metadata": {
        "colab": {
          "base_uri": "https://localhost:8080/"
        },
        "id": "fFX64cW-doh8",
        "outputId": "de957248-dd6c-496f-ac04-ac0be872b118"
      },
      "outputs": [
        {
          "output_type": "stream",
          "name": "stdout",
          "text": [
            "Requirement already satisfied: pyngrok in /usr/local/lib/python3.10/dist-packages (7.2.1)\n",
            "Requirement already satisfied: PyYAML>=5.1 in /usr/local/lib/python3.10/dist-packages (from pyngrok) (6.0.2)\n"
          ]
        }
      ],
      "source": [
        "!pip install pyngrok"
      ]
    },
    {
      "cell_type": "code",
      "source": [
        "!ngrok config add-authtoken AUTH_TOKEN"
      ],
      "metadata": {
        "colab": {
          "base_uri": "https://localhost:8080/"
        },
        "id": "jP0awzmndyfG",
        "outputId": "c03f8126-14d2-4e59-9403-2bba0a76d352"
      },
      "execution_count": 39,
      "outputs": [
        {
          "output_type": "stream",
          "name": "stdout",
          "text": [
            "Authtoken saved to configuration file: /root/.config/ngrok/ngrok.yml\n"
          ]
        }
      ]
    },
    {
      "cell_type": "code",
      "source": [
        "import keras\n",
        "import librosa\n",
        "import numpy as np\n",
        "from keras.layers import Input, Conv1D, Flatten, Dense, Dropout, Activation, MaxPooling1D\n",
        "from keras.models import Model\n",
        "from flask import Flask, request, redirect, render_template_string, send_from_directory\n",
        "from werkzeug.utils import secure_filename\n",
        "import os\n",
        "from io import BytesIO\n",
        "import base64\n",
        "import os\n",
        "from pyngrok import ngrok"
      ],
      "metadata": {
        "id": "Zh21shC4d9UW"
      },
      "execution_count": 62,
      "outputs": []
    },
    {
      "cell_type": "code",
      "source": [
        "''' Class to Make Predicitions '''\n",
        "\n",
        "class LivePredictions:\n",
        "    def __init__(self):\n",
        "        self.path = \"/content/Emotion_Voice_Detection_Model.h5\"\n",
        "\n",
        "        input_layer = Input(shape=(40, 1))\n",
        "        x = Conv1D(64, 5, padding='same')(input_layer)\n",
        "        x = Activation('relu')(x)\n",
        "        x = Dropout(0.2)(x)\n",
        "        x = Flatten()(x)\n",
        "        x = Dense(8)(x)\n",
        "        output_layer = Activation('softmax')(x)\n",
        "        self.model = Model(inputs=input_layer, outputs=output_layer)\n",
        "        self.model.load_weights(self.path)\n",
        "\n",
        "    @staticmethod\n",
        "    def convert_class_to_emotion(pred):\n",
        "        label_conversion = {'0': 'neutral',\n",
        "                            '1': 'calm',\n",
        "                            '2': 'happy',\n",
        "                            '3': 'sad',\n",
        "                            '4': 'angry',\n",
        "                            '5': 'fearful',\n",
        "                            '6': 'disgust',\n",
        "                            '7': 'surprised'}\n",
        "\n",
        "        for key, value in label_conversion.items():\n",
        "            if int(key) == pred:\n",
        "                label = value\n",
        "\n",
        "        return label\n",
        "\n",
        "    def make_predictions(self, file):\n",
        "        data, sampling_rate = librosa.load(file)\n",
        "        mfccs = np.mean(librosa.feature.mfcc(y=data, sr=sampling_rate, n_mfcc=40).T, axis=0)\n",
        "        x = np.expand_dims(mfccs, axis=0)\n",
        "        predictions = self.model.predict(x, verbose=0)\n",
        "        predicted_class = np.argmax(predictions)\n",
        "\n",
        "        return self.convert_class_to_emotion(predicted_class)"
      ],
      "metadata": {
        "id": "rW_075pKedD3"
      },
      "execution_count": 63,
      "outputs": []
    },
    {
      "cell_type": "code",
      "source": [
        "''' Check if model is working correctly '''\n",
        "\n",
        "predection = LivePredictions()\n",
        "predection.model.summary()\n",
        "wrong_classification_path = '/content/03-01-01-01-01-02-05.wav'\n",
        "correct_classification_path = '/content/10-16-07-29-82-30-63.wav'\n",
        "\n",
        "correct = predection.make_predictions(file=correct_classification_path)\n",
        "print(f\"Correct Emotion Is {correct}\")\n",
        "wrong = predection.make_predictions(file=wrong_classification_path)\n",
        "print(f\"Wrong Emotion Is {wrong}\")"
      ],
      "metadata": {
        "colab": {
          "base_uri": "https://localhost:8080/",
          "height": 388
        },
        "id": "nD6-0EVte1NO",
        "outputId": "ae936aeb-bee4-433c-8671-97ef7a13e0bd"
      },
      "execution_count": 64,
      "outputs": [
        {
          "output_type": "display_data",
          "data": {
            "text/plain": [
              "\u001b[1mModel: \"functional_28\"\u001b[0m\n"
            ],
            "text/html": [
              "<pre style=\"white-space:pre;overflow-x:auto;line-height:normal;font-family:Menlo,'DejaVu Sans Mono',consolas,'Courier New',monospace\"><span style=\"font-weight: bold\">Model: \"functional_28\"</span>\n",
              "</pre>\n"
            ]
          },
          "metadata": {}
        },
        {
          "output_type": "display_data",
          "data": {
            "text/plain": [
              "┏━━━━━━━━━━━━━━━━━━━━━━━━━━━━━━━━━━━━━━┳━━━━━━━━━━━━━━━━━━━━━━━━━━━━━┳━━━━━━━━━━━━━━━━━┓\n",
              "┃\u001b[1m \u001b[0m\u001b[1mLayer (type)                        \u001b[0m\u001b[1m \u001b[0m┃\u001b[1m \u001b[0m\u001b[1mOutput Shape               \u001b[0m\u001b[1m \u001b[0m┃\u001b[1m \u001b[0m\u001b[1m        Param #\u001b[0m\u001b[1m \u001b[0m┃\n",
              "┡━━━━━━━━━━━━━━━━━━━━━━━━━━━━━━━━━━━━━━╇━━━━━━━━━━━━━━━━━━━━━━━━━━━━━╇━━━━━━━━━━━━━━━━━┩\n",
              "│ input_layer_28 (\u001b[38;5;33mInputLayer\u001b[0m)          │ (\u001b[38;5;45mNone\u001b[0m, \u001b[38;5;34m40\u001b[0m, \u001b[38;5;34m1\u001b[0m)               │               \u001b[38;5;34m0\u001b[0m │\n",
              "├──────────────────────────────────────┼─────────────────────────────┼─────────────────┤\n",
              "│ conv1d_31 (\u001b[38;5;33mConv1D\u001b[0m)                   │ (\u001b[38;5;45mNone\u001b[0m, \u001b[38;5;34m40\u001b[0m, \u001b[38;5;34m64\u001b[0m)              │             \u001b[38;5;34m384\u001b[0m │\n",
              "├──────────────────────────────────────┼─────────────────────────────┼─────────────────┤\n",
              "│ activation_59 (\u001b[38;5;33mActivation\u001b[0m)           │ (\u001b[38;5;45mNone\u001b[0m, \u001b[38;5;34m40\u001b[0m, \u001b[38;5;34m64\u001b[0m)              │               \u001b[38;5;34m0\u001b[0m │\n",
              "├──────────────────────────────────────┼─────────────────────────────┼─────────────────┤\n",
              "│ dropout_31 (\u001b[38;5;33mDropout\u001b[0m)                 │ (\u001b[38;5;45mNone\u001b[0m, \u001b[38;5;34m40\u001b[0m, \u001b[38;5;34m64\u001b[0m)              │               \u001b[38;5;34m0\u001b[0m │\n",
              "├──────────────────────────────────────┼─────────────────────────────┼─────────────────┤\n",
              "│ flatten_28 (\u001b[38;5;33mFlatten\u001b[0m)                 │ (\u001b[38;5;45mNone\u001b[0m, \u001b[38;5;34m2560\u001b[0m)                │               \u001b[38;5;34m0\u001b[0m │\n",
              "├──────────────────────────────────────┼─────────────────────────────┼─────────────────┤\n",
              "│ dense_28 (\u001b[38;5;33mDense\u001b[0m)                     │ (\u001b[38;5;45mNone\u001b[0m, \u001b[38;5;34m8\u001b[0m)                   │          \u001b[38;5;34m20,488\u001b[0m │\n",
              "├──────────────────────────────────────┼─────────────────────────────┼─────────────────┤\n",
              "│ activation_60 (\u001b[38;5;33mActivation\u001b[0m)           │ (\u001b[38;5;45mNone\u001b[0m, \u001b[38;5;34m8\u001b[0m)                   │               \u001b[38;5;34m0\u001b[0m │\n",
              "└──────────────────────────────────────┴─────────────────────────────┴─────────────────┘\n"
            ],
            "text/html": [
              "<pre style=\"white-space:pre;overflow-x:auto;line-height:normal;font-family:Menlo,'DejaVu Sans Mono',consolas,'Courier New',monospace\">┏━━━━━━━━━━━━━━━━━━━━━━━━━━━━━━━━━━━━━━┳━━━━━━━━━━━━━━━━━━━━━━━━━━━━━┳━━━━━━━━━━━━━━━━━┓\n",
              "┃<span style=\"font-weight: bold\"> Layer (type)                         </span>┃<span style=\"font-weight: bold\"> Output Shape                </span>┃<span style=\"font-weight: bold\">         Param # </span>┃\n",
              "┡━━━━━━━━━━━━━━━━━━━━━━━━━━━━━━━━━━━━━━╇━━━━━━━━━━━━━━━━━━━━━━━━━━━━━╇━━━━━━━━━━━━━━━━━┩\n",
              "│ input_layer_28 (<span style=\"color: #0087ff; text-decoration-color: #0087ff\">InputLayer</span>)          │ (<span style=\"color: #00d7ff; text-decoration-color: #00d7ff\">None</span>, <span style=\"color: #00af00; text-decoration-color: #00af00\">40</span>, <span style=\"color: #00af00; text-decoration-color: #00af00\">1</span>)               │               <span style=\"color: #00af00; text-decoration-color: #00af00\">0</span> │\n",
              "├──────────────────────────────────────┼─────────────────────────────┼─────────────────┤\n",
              "│ conv1d_31 (<span style=\"color: #0087ff; text-decoration-color: #0087ff\">Conv1D</span>)                   │ (<span style=\"color: #00d7ff; text-decoration-color: #00d7ff\">None</span>, <span style=\"color: #00af00; text-decoration-color: #00af00\">40</span>, <span style=\"color: #00af00; text-decoration-color: #00af00\">64</span>)              │             <span style=\"color: #00af00; text-decoration-color: #00af00\">384</span> │\n",
              "├──────────────────────────────────────┼─────────────────────────────┼─────────────────┤\n",
              "│ activation_59 (<span style=\"color: #0087ff; text-decoration-color: #0087ff\">Activation</span>)           │ (<span style=\"color: #00d7ff; text-decoration-color: #00d7ff\">None</span>, <span style=\"color: #00af00; text-decoration-color: #00af00\">40</span>, <span style=\"color: #00af00; text-decoration-color: #00af00\">64</span>)              │               <span style=\"color: #00af00; text-decoration-color: #00af00\">0</span> │\n",
              "├──────────────────────────────────────┼─────────────────────────────┼─────────────────┤\n",
              "│ dropout_31 (<span style=\"color: #0087ff; text-decoration-color: #0087ff\">Dropout</span>)                 │ (<span style=\"color: #00d7ff; text-decoration-color: #00d7ff\">None</span>, <span style=\"color: #00af00; text-decoration-color: #00af00\">40</span>, <span style=\"color: #00af00; text-decoration-color: #00af00\">64</span>)              │               <span style=\"color: #00af00; text-decoration-color: #00af00\">0</span> │\n",
              "├──────────────────────────────────────┼─────────────────────────────┼─────────────────┤\n",
              "│ flatten_28 (<span style=\"color: #0087ff; text-decoration-color: #0087ff\">Flatten</span>)                 │ (<span style=\"color: #00d7ff; text-decoration-color: #00d7ff\">None</span>, <span style=\"color: #00af00; text-decoration-color: #00af00\">2560</span>)                │               <span style=\"color: #00af00; text-decoration-color: #00af00\">0</span> │\n",
              "├──────────────────────────────────────┼─────────────────────────────┼─────────────────┤\n",
              "│ dense_28 (<span style=\"color: #0087ff; text-decoration-color: #0087ff\">Dense</span>)                     │ (<span style=\"color: #00d7ff; text-decoration-color: #00d7ff\">None</span>, <span style=\"color: #00af00; text-decoration-color: #00af00\">8</span>)                   │          <span style=\"color: #00af00; text-decoration-color: #00af00\">20,488</span> │\n",
              "├──────────────────────────────────────┼─────────────────────────────┼─────────────────┤\n",
              "│ activation_60 (<span style=\"color: #0087ff; text-decoration-color: #0087ff\">Activation</span>)           │ (<span style=\"color: #00d7ff; text-decoration-color: #00d7ff\">None</span>, <span style=\"color: #00af00; text-decoration-color: #00af00\">8</span>)                   │               <span style=\"color: #00af00; text-decoration-color: #00af00\">0</span> │\n",
              "└──────────────────────────────────────┴─────────────────────────────┴─────────────────┘\n",
              "</pre>\n"
            ]
          },
          "metadata": {}
        },
        {
          "output_type": "display_data",
          "data": {
            "text/plain": [
              "\u001b[1m Total params: \u001b[0m\u001b[38;5;34m20,872\u001b[0m (81.53 KB)\n"
            ],
            "text/html": [
              "<pre style=\"white-space:pre;overflow-x:auto;line-height:normal;font-family:Menlo,'DejaVu Sans Mono',consolas,'Courier New',monospace\"><span style=\"font-weight: bold\"> Total params: </span><span style=\"color: #00af00; text-decoration-color: #00af00\">20,872</span> (81.53 KB)\n",
              "</pre>\n"
            ]
          },
          "metadata": {}
        },
        {
          "output_type": "display_data",
          "data": {
            "text/plain": [
              "\u001b[1m Trainable params: \u001b[0m\u001b[38;5;34m20,872\u001b[0m (81.53 KB)\n"
            ],
            "text/html": [
              "<pre style=\"white-space:pre;overflow-x:auto;line-height:normal;font-family:Menlo,'DejaVu Sans Mono',consolas,'Courier New',monospace\"><span style=\"font-weight: bold\"> Trainable params: </span><span style=\"color: #00af00; text-decoration-color: #00af00\">20,872</span> (81.53 KB)\n",
              "</pre>\n"
            ]
          },
          "metadata": {}
        },
        {
          "output_type": "display_data",
          "data": {
            "text/plain": [
              "\u001b[1m Non-trainable params: \u001b[0m\u001b[38;5;34m0\u001b[0m (0.00 B)\n"
            ],
            "text/html": [
              "<pre style=\"white-space:pre;overflow-x:auto;line-height:normal;font-family:Menlo,'DejaVu Sans Mono',consolas,'Courier New',monospace\"><span style=\"font-weight: bold\"> Non-trainable params: </span><span style=\"color: #00af00; text-decoration-color: #00af00\">0</span> (0.00 B)\n",
              "</pre>\n"
            ]
          },
          "metadata": {}
        },
        {
          "output_type": "stream",
          "name": "stdout",
          "text": [
            "Correct Emotion Is disgust\n",
            "Wrong Emotion Is calm\n"
          ]
        }
      ]
    },
    {
      "cell_type": "code",
      "source": [
        "from flask import Flask, request, redirect, render_template_string, send_from_directory\n",
        "from werkzeug.utils import secure_filename\n",
        "import os\n",
        "from io import BytesIO\n",
        "import base64\n",
        "import os\n",
        "from pyngrok import ngrok\n",
        "\n",
        "# Flask setup\n",
        "app = Flask(__name__)\n",
        "\n",
        "app.config['UPLOAD_FOLDER'] = 'uploads'\n",
        "app.config['ALLOWED_EXTENSIONS'] = {'wav', 'mp3'}\n",
        "\n",
        "\n",
        "if not os.path.exists(app.config['UPLOAD_FOLDER']):\n",
        "    os.makedirs(app.config['UPLOAD_FOLDER'])\n",
        "\n",
        "def allowed_file(filename):\n",
        "    return '.' in filename and filename.rsplit('.', 1)[1].lower() in app.config['ALLOWED_EXTENSIONS']\n",
        "\n",
        "\n",
        "live_prediction = LivePredictions()\n",
        "\n",
        "@app.route('/', methods=['GET', 'POST'])\n",
        "def upload_file():\n",
        "    if request.method == 'POST':\n",
        "        if 'file' not in request.files:\n",
        "            return redirect(request.url)\n",
        "        file = request.files['file']\n",
        "        if file.filename == '':\n",
        "            return redirect(request.url)\n",
        "        if file and allowed_file(file.filename):\n",
        "            filename = secure_filename(file.filename)\n",
        "            filepath = os.path.join(app.config['UPLOAD_FOLDER'], filename)\n",
        "            file.save(filepath)\n",
        "\n",
        "            predicted_emotion = live_prediction.make_predictions(file=filepath)\n",
        "            return render_template_string(TEMPLATE_MATCH_FOUND, emotion=predicted_emotion, audio_filename=filename)\n",
        "\n",
        "    return render_template_string(TEMPLATE_UPLOAD)\n",
        "\n",
        "TEMPLATE_UPLOAD = '''\n",
        "<!doctype html>\n",
        "<html lang=\"en\">\n",
        "<head>\n",
        "    <meta charset=\"UTF-8\">\n",
        "    <meta name=\"viewport\" content=\"width=device-width, initial-scale=1.0\">\n",
        "    <title>Speech Emotion Recognition</title>\n",
        "    <link href=\"https://fonts.googleapis.com/css2?family=Roboto:wght@400;700&display=swap\" rel=\"stylesheet\">\n",
        "    <style>\n",
        "        body {\n",
        "            background: linear-gradient(135deg, rgba(238, 174, 202, 1) 0%, rgba(148, 187, 233, 1) 100%);\n",
        "            font-family: 'Roboto', sans-serif;\n",
        "            display: flex;\n",
        "            flex-direction: column;\n",
        "            align-items: center;\n",
        "            justify-content: center;\n",
        "            height: 100vh;\n",
        "            margin: 0;\n",
        "            color: #333;\n",
        "        }\n",
        "        h1 {\n",
        "            font-size: 2.5em;\n",
        "            margin-bottom: 10px;\n",
        "            font-weight: bold;\n",
        "        }\n",
        "        p {\n",
        "            font-size: 1.2em;\n",
        "            text-align: center;\n",
        "            margin: 0 0 30px;\n",
        "        }\n",
        "        .upload-container {\n",
        "            background: white;\n",
        "            border-radius: 10px;\n",
        "            box-shadow: 0 4px 20px rgba(0, 0, 0, 0.1);\n",
        "            padding: 30px;\n",
        "            text-align: center;\n",
        "            width: 90%;\n",
        "            max-width: 400px;\n",
        "        }\n",
        "        .upload-btn {\n",
        "            background-color: #6c63ff;\n",
        "            border: none;\n",
        "            border-radius: 5px;\n",
        "            color: white;\n",
        "            padding: 15px 35px;\n",
        "            font-size: 1em;\n",
        "            cursor: pointer;\n",
        "            transition: background 0.3s;\n",
        "        }\n",
        "        .upload-btn:hover {\n",
        "            background-color: #5753d1;\n",
        "        }\n",
        "        .upload-area {\n",
        "            border: 2px dashed #6c63ff;\n",
        "            border-radius: 10px;\n",
        "            padding: 30px;\n",
        "            margin: 10px 0;\n",
        "            transition: background 0.3s;\n",
        "        }\n",
        "        .upload-area:hover {\n",
        "            background-color: #f3f3f3;\n",
        "        }\n",
        "        input[type=\"file\"] {\n",
        "            display: none; /* Hide the default file input */\n",
        "        }\n",
        "        label {\n",
        "            margin: 10px 0;\n",
        "            cursor: pointer;\n",
        "            color: #6c63ff;\n",
        "        }\n",
        "        #fileFeedback {\n",
        "            display: none;\n",
        "            color: #6c63ff;\n",
        "            margin-top: 15px;\n",
        "        }\n",
        "        .loading {\n",
        "            display: none;\n",
        "            font-weight: bold;\n",
        "            margin-top: 15px;\n",
        "        }\n",
        "    </style>\n",
        "    <script>\n",
        "        function updateUploadStatus(event) {\n",
        "            const feedback = document.getElementById('fileFeedback');\n",
        "            const loading = document.getElementById('loadingMessage');\n",
        "\n",
        "            if (event.target.files.length > 0) {\n",
        "                feedback.textContent = \"File selected: \" + event.target.files[0].name;\n",
        "                feedback.style.display = \"block\";\n",
        "                loading.style.display = \"none\";\n",
        "            } else {\n",
        "                feedback.style.display = \"none\";\n",
        "                loading.style.display = \"none\";\n",
        "            }\n",
        "        }\n",
        "\n",
        "        function showLoading() {\n",
        "            const loading = document.getElementById('loadingMessage');\n",
        "            loading.style.display = 'block';\n",
        "        }\n",
        "    </script>\n",
        "</head>\n",
        "<body>\n",
        "    <h1>Speech Emotion Recognition</h1>\n",
        "    <p>Upload an audio file to analyze the emotional content of speech. Our AI will detect various emotions and their intensities.</p>\n",
        "    <div class=\"upload-container\">\n",
        "        <form method=\"post\" enctype=\"multipart/form-data\" onsubmit=\"showLoading();\">\n",
        "            <div class=\"upload-area\">\n",
        "                <label for=\"file\">Upload audio file</label>\n",
        "                <input type=\"file\" name=\"file\" accept=\"audio/*\" id=\"file\" required onchange=\"updateUploadStatus(event);\">\n",
        "                <p>Drag and drop or click to select</p>\n",
        "                <div id=\"fileFeedback\"></div>\n",
        "                <div id=\"loadingMessage\" class=\"loading\">Loading... Please wait.</div>\n",
        "            </div>\n",
        "            <button class=\"upload-btn\" type=\"submit\">Select File</button>\n",
        "        </form>\n",
        "    </div>\n",
        "</body>\n",
        "</html>\n",
        "'''\n",
        "\n",
        "TEMPLATE_MATCH_FOUND = '''\n",
        "<!doctype html>\n",
        "<html lang=\"en\">\n",
        "<head>\n",
        "    <meta charset=\"UTF-8\">\n",
        "    <meta name=\"viewport\" content=\"width=device-width, initial-scale=1.0\">\n",
        "    <title>Emotion Recognized</title>\n",
        "    <link href=\"https://fonts.googleapis.com/css2?family=Roboto:wght@400;700&display=swap\" rel=\"stylesheet\">\n",
        "    <style>\n",
        "        body {\n",
        "            background: linear-gradient(135deg, rgba(238, 174, 202, 1) 0%, rgba(148, 187, 233, 1) 100%);\n",
        "            font-family: 'Roboto', sans-serif;\n",
        "            display: flex;\n",
        "            flex-direction: column;\n",
        "            align-items: center;\n",
        "            justify-content: center;\n",
        "            height: 100vh;\n",
        "            margin: 0;\n",
        "            color: #333;\n",
        "        }\n",
        "        h1 {\n",
        "            font-size: 2.5em;\n",
        "            margin-bottom: 10px;\n",
        "            font-weight: bold;\n",
        "        }\n",
        "        .result-container {\n",
        "            background: white;\n",
        "            border-radius: 10px;\n",
        "            box-shadow: 0 4px 20px rgba(0, 0, 0, 0.1);\n",
        "            padding: 20px;\n",
        "            text-align: center;\n",
        "            width: 90%;\n",
        "            max-width: 400px;\n",
        "        }\n",
        "        audio {\n",
        "            margin-top: 20px;\n",
        "            width: 100%;\n",
        "        }\n",
        "        .try-again-btn {\n",
        "            background: #ff4c4c;\n",
        "            border: none;\n",
        "            padding: 10px 20px;\n",
        "            border-radius: 5px;\n",
        "            color: white;\n",
        "            font-size: 1em;\n",
        "            cursor: pointer;\n",
        "            margin-top: 20px;\n",
        "            transition: background 0.3s;\n",
        "        }\n",
        "        .try-again-btn:hover {\n",
        "            background: #cc0000;\n",
        "        }\n",
        "    </style>\n",
        "</head>\n",
        "<body>\n",
        "    <h1>Emotion Recognized: {{ emotion }}</h1>\n",
        "    <div class=\"result-container\">\n",
        "        <audio controls>\n",
        "            <source src=\"{{ url_for('uploaded_file', filename=audio_filename) }}\" type=\"audio/wav\">\n",
        "            Your browser does not support the audio tag.\n",
        "        </audio>\n",
        "        <form method=\"get\" action=\"/\">\n",
        "            <button class=\"try-again-btn\" type=\"submit\">Try Again</button>\n",
        "        </form>\n",
        "    </div>\n",
        "</body>\n",
        "</html>\n",
        "'''\n",
        "\n",
        "@app.route('/uploads/<filename>')\n",
        "def uploaded_file(filename):\n",
        "    return send_from_directory(app.config['UPLOAD_FOLDER'], filename)\n",
        "\n",
        "# Run the Flask app\n",
        "port = 5000\n",
        "app.run(host='0.0.0.0', port=port)\n",
        "public_url = ngrok.connect(port)\n",
        "print(f\" * ngrok tunnel \\\"{public_url}\\\" -> \\\"http://127.0.0.1:{port}\\\"\")\n",
        "app.run(host='0.0.0.0', port=port)\n"
      ],
      "metadata": {
        "colab": {
          "base_uri": "https://localhost:8080/"
        },
        "id": "yQHI7eiBrCTD",
        "outputId": "e7d36aa7-6fb1-44da-dede-d732aa3e9939"
      },
      "execution_count": 66,
      "outputs": [
        {
          "output_type": "stream",
          "name": "stdout",
          "text": [
            " * Serving Flask app '__main__'\n",
            " * Debug mode: off\n"
          ]
        },
        {
          "output_type": "stream",
          "name": "stderr",
          "text": [
            "INFO:werkzeug:\u001b[31m\u001b[1mWARNING: This is a development server. Do not use it in a production deployment. Use a production WSGI server instead.\u001b[0m\n",
            " * Running on all addresses (0.0.0.0)\n",
            " * Running on http://127.0.0.1:5000\n",
            " * Running on http://172.28.0.12:5000\n",
            "INFO:werkzeug:\u001b[33mPress CTRL+C to quit\u001b[0m\n"
          ]
        },
        {
          "output_type": "stream",
          "name": "stdout",
          "text": [
            " * ngrok tunnel \"NgrokTunnel: \"https://52ca-35-194-9-120.ngrok-free.app\" -> \"http://localhost:5000\"\" -> \"http://127.0.0.1:5000\"\n",
            " * Serving Flask app '__main__'\n",
            " * Debug mode: off\n"
          ]
        },
        {
          "output_type": "stream",
          "name": "stderr",
          "text": [
            "INFO:werkzeug:\u001b[31m\u001b[1mWARNING: This is a development server. Do not use it in a production deployment. Use a production WSGI server instead.\u001b[0m\n",
            " * Running on all addresses (0.0.0.0)\n",
            " * Running on http://127.0.0.1:5000\n",
            " * Running on http://172.28.0.12:5000\n",
            "INFO:werkzeug:\u001b[33mPress CTRL+C to quit\u001b[0m\n",
            "INFO:werkzeug:127.0.0.1 - - [01/Dec/2024 06:03:21] \"GET / HTTP/1.1\" 200 -\n",
            "INFO:werkzeug:127.0.0.1 - - [01/Dec/2024 06:03:22] \"\u001b[33mGET /favicon.ico HTTP/1.1\u001b[0m\" 404 -\n",
            "INFO:werkzeug:127.0.0.1 - - [01/Dec/2024 06:03:28] \"POST / HTTP/1.1\" 200 -\n",
            "INFO:werkzeug:127.0.0.1 - - [01/Dec/2024 06:03:28] \"\u001b[35m\u001b[1mGET /uploads/YAF_witch_sad.mp3 HTTP/1.1\u001b[0m\" 206 -\n",
            "INFO:werkzeug:127.0.0.1 - - [01/Dec/2024 06:03:30] \"\u001b[33mGET /favicon.ico HTTP/1.1\u001b[0m\" 404 -\n"
          ]
        }
      ]
    }
  ]
}